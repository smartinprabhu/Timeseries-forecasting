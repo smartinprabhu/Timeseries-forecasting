{
 "cells": [
  {
   "cell_type": "markdown",
   "metadata": {},
   "source": [
    ">\n",
    "> <center>\n",
    ">\n",
    "> # **Time Series Forecasting for Energy Consumption Patterns**\n",
    ">\n",
    "></center>\n",
    ">\n",
    "\n",
    "\n",
    "\n",
    " "
   ]
  },
  {
   "cell_type": "markdown",
   "metadata": {},
   "source": [
    "> - > This document analyzes energy consumption patterns over time, utilizing the Prophet forecasting model.\n",
    ">\n",
    "> - > By extracting relevant features and training the model, it forecasts future energy consumption and provides insights for efficient resource management."
   ]
  },
  {
   "cell_type": "markdown",
   "metadata": {},
   "source": [
    "\n",
    "># Importing necessary libraries\n",
    ">- pandas is used for data analysis and manipulation\n",
    ">>\n",
    ">-  matplotlib is used for data visualization\n",
    ">>\n",
    ">- seaborn is also used for visualization but it has high level interface\n",
    ">>\n",
    ">- Scikit-learn,(sklearn) provides simple and efficient tools for data mining and data analysis,\n",
    ">>\n",
    "> - Prophet for time series forecasting,\n",
    ">\n",
    ">``````"
   ]
  },
  {
   "cell_type": "code",
   "execution_count": 189,
   "metadata": {},
   "outputs": [],
   "source": [
    "import pandas as pd\n",
    "import matplotlib.pyplot as plt\n",
    "from sklearn.metrics import mean_squared_error\n",
    "import prophet\n",
    "from prophet import Prophet"
   ]
  },
  {
   "cell_type": "markdown",
   "metadata": {},
   "source": [
    "\n",
    "># **load dataset**\n",
    "   >     read_excel\n",
    "   > - is a function in pandas used to load datasets like xlsx ,xls\n",
    "   >\n",
    ">\n",
    "   >- This dataset(df_hour.xlsx) contains timestamps, energy consumption values, and additional attributes related to equipment, assets, errors, and companies.\n"
   ]
  },
  {
   "cell_type": "code",
   "execution_count": 218,
   "metadata": {},
   "outputs": [],
   "source": [
    "df = pd.read_excel(\"df_hour.xlsx\")"
   ]
  },
  {
   "cell_type": "code",
   "execution_count": 219,
   "metadata": {},
   "outputs": [
    {
     "name": "stdout",
     "output_type": "stream",
     "text": [
      "      Unnamed: 0           Timestamp  Answer Value First  Answer Value Last  \\\n",
      "0              0 2024-01-01 00:00:00            54199.73           54199.79   \n",
      "1              1 2024-01-01 01:00:00            54199.80           54199.91   \n",
      "2              2 2024-01-01 02:00:00            54199.92           54200.03   \n",
      "3              3 2024-01-01 03:00:00            54200.04           54200.16   \n",
      "4              4 2024-01-01 04:00:00            54200.17           54200.29   \n",
      "...          ...                 ...                 ...                ...   \n",
      "1211        1211 2024-02-20 11:00:00            76463.02           76487.40   \n",
      "1212        1212 2024-02-20 12:00:00            76490.87           76525.19   \n",
      "1213        1213 2024-02-20 13:00:00            76542.59           76566.49   \n",
      "1214        1214 2024-02-20 14:00:00            76569.48           76599.95   \n",
      "1215        1215 2024-02-20 15:00:00            76610.69           76646.43   \n",
      "\n",
      "      Energy Consumption (kWh)   Equipment SNO   Asset Number  \\\n",
      "0                         0.06  68B6B34180C8-3  FSCHN-E-00001   \n",
      "1                         0.11  68B6B34180C8-3  FSCHN-E-00001   \n",
      "2                         0.11  68B6B34180C8-3  FSCHN-E-00001   \n",
      "3                         0.12  68B6B34180C8-3  FSCHN-E-00001   \n",
      "4                         0.12  68B6B34180C8-3  FSCHN-E-00001   \n",
      "...                        ...             ...            ...   \n",
      "1211                     24.38  68B6B34180C8-3  FSCHN-E-00001   \n",
      "1212                     34.32  68B6B34180C8-3  FSCHN-E-00001   \n",
      "1213                     23.90  68B6B34180C8-3  FSCHN-E-00001   \n",
      "1214                     30.47  68B6B34180C8-3  FSCHN-E-00001   \n",
      "1215                     35.74  68B6B34180C8-3  FSCHN-E-00001   \n",
      "\n",
      "         Reading Name  Answer Value  Is Error Set?  Is Error Code?   Asset  \\\n",
      "0     activeenergydla      54199.73            0.0             NaN  AHU DB   \n",
      "1     activeenergydla      54199.80            0.0             NaN  AHU DB   \n",
      "2     activeenergydla      54199.92            0.0             NaN  AHU DB   \n",
      "3     activeenergydla      54200.04            0.0             NaN  AHU DB   \n",
      "4     activeenergydla      54200.17            0.0             NaN  AHU DB   \n",
      "...               ...           ...            ...             ...     ...   \n",
      "1211  activeenergydla      76463.02            0.0             NaN  AHU DB   \n",
      "1212  activeenergydla      76490.87            0.0             NaN  AHU DB   \n",
      "1213  activeenergydla      76542.59            0.0             NaN  AHU DB   \n",
      "1214  activeenergydla      76569.48            0.0             NaN  AHU DB   \n",
      "1215  activeenergydla      76610.69            0.0             NaN  AHU DB   \n",
      "\n",
      "                Company  \n",
      "0     Chennai – Bayline  \n",
      "1     Chennai – Bayline  \n",
      "2     Chennai – Bayline  \n",
      "3     Chennai – Bayline  \n",
      "4     Chennai – Bayline  \n",
      "...                 ...  \n",
      "1211  Chennai – Bayline  \n",
      "1212  Chennai – Bayline  \n",
      "1213  Chennai – Bayline  \n",
      "1214  Chennai – Bayline  \n",
      "1215  Chennai – Bayline  \n",
      "\n",
      "[1216 rows x 13 columns]\n"
     ]
    }
   ],
   "source": [
    "print(df)"
   ]
  },
  {
   "cell_type": "markdown",
   "metadata": {},
   "source": [
    ">_________________\n",
    "> # **Datetime**\n",
    "    >-      to_datetime()\n",
    "   >- >  is a function in pandas used to convert various types of input into datetimemobjects. \n",
    "   >>\n",
    "   >- >This function can convert a string, timestamp, or datetime object into a pandas datetime object.\n",
    "   >\n",
    "  > - > It  extracts relevant features such as year, month, day, hour, minute, and second from the timestamp using pandas' datetime properties (`dt.year`, `dt.month`, `dt.day`, `dt.hour`, `dt.minute`, `dt.second`)\n",
    "  >- > This function is essential for preprocessing time-series data in data analysis, machine learning, and forecasting projects.\n",
    "  >___________"
   ]
  },
  {
   "cell_type": "code",
   "execution_count": 220,
   "metadata": {},
   "outputs": [],
   "source": [
    "df['Timestamp'] = pd.to_datetime(df['Timestamp'])"
   ]
  },
  {
   "cell_type": "markdown",
   "metadata": {},
   "source": [
    "> ## Renaming \n",
    " > -       rename()\n",
    "  > - is a  function in pandas used to rename one or more columns in a DataFrame.\n",
    "  >\n",
    "> - It takes a dictionary as input, where the keys are the old column names and the values are the new column names to be assigned.\n",
    ">\n",
    ">> -      inplace =True\n",
    ">> - >By setting the inplace parameter to True, the original DataFrame is modified, and the changes are applied directly.\n",
    ">>     \n",
    ">>>>\n",
    "\n",
    ">># Note\n",
    " > >- >Prophet expects the input DataFrame to have these specific column names ('ds' for the timestamps and 'y' for the target variable)\n",
    " >>>\n",
    " >>- > because  it follows a standardized convention for time series data. \n",
    " >>>>\n",
    " >>- > This format simplifies the implementation process and ensures compatibility with Prophet's forecasting algorithms.\n"
   ]
  },
  {
   "cell_type": "code",
   "execution_count": 275,
   "metadata": {},
   "outputs": [
    {
     "name": "stdout",
     "output_type": "stream",
     "text": [
      "      Unnamed: 0                  ds  Answer Value First  Answer Value Last  \\\n",
      "0              0 2024-01-01 00:00:00            54199.73           54199.79   \n",
      "1              1 2024-01-01 01:00:00            54199.80           54199.91   \n",
      "2              2 2024-01-01 02:00:00            54199.92           54200.03   \n",
      "3              3 2024-01-01 03:00:00            54200.04           54200.16   \n",
      "4              4 2024-01-01 04:00:00            54200.17           54200.29   \n",
      "...          ...                 ...                 ...                ...   \n",
      "1211        1211 2024-02-20 11:00:00            76463.02           76487.40   \n",
      "1212        1212 2024-02-20 12:00:00            76490.87           76525.19   \n",
      "1213        1213 2024-02-20 13:00:00            76542.59           76566.49   \n",
      "1214        1214 2024-02-20 14:00:00            76569.48           76599.95   \n",
      "1215        1215 2024-02-20 15:00:00            76610.69           76646.43   \n",
      "\n",
      "          y   Equipment SNO   Asset Number     Reading Name  Answer Value  \\\n",
      "0      0.06  68B6B34180C8-3  FSCHN-E-00001  activeenergydla      54199.73   \n",
      "1      0.11  68B6B34180C8-3  FSCHN-E-00001  activeenergydla      54199.80   \n",
      "2      0.11  68B6B34180C8-3  FSCHN-E-00001  activeenergydla      54199.92   \n",
      "3      0.12  68B6B34180C8-3  FSCHN-E-00001  activeenergydla      54200.04   \n",
      "4      0.12  68B6B34180C8-3  FSCHN-E-00001  activeenergydla      54200.17   \n",
      "...     ...             ...            ...              ...           ...   \n",
      "1211  24.38  68B6B34180C8-3  FSCHN-E-00001  activeenergydla      76463.02   \n",
      "1212  34.32  68B6B34180C8-3  FSCHN-E-00001  activeenergydla      76490.87   \n",
      "1213  23.90  68B6B34180C8-3  FSCHN-E-00001  activeenergydla      76542.59   \n",
      "1214  30.47  68B6B34180C8-3  FSCHN-E-00001  activeenergydla      76569.48   \n",
      "1215  35.74  68B6B34180C8-3  FSCHN-E-00001  activeenergydla      76610.69   \n",
      "\n",
      "      Is Error Set?  Is Error Code?   Asset            Company  \n",
      "0               0.0             NaN  AHU DB  Chennai – Bayline  \n",
      "1               0.0             NaN  AHU DB  Chennai – Bayline  \n",
      "2               0.0             NaN  AHU DB  Chennai – Bayline  \n",
      "3               0.0             NaN  AHU DB  Chennai – Bayline  \n",
      "4               0.0             NaN  AHU DB  Chennai – Bayline  \n",
      "...             ...             ...     ...                ...  \n",
      "1211            0.0             NaN  AHU DB  Chennai – Bayline  \n",
      "1212            0.0             NaN  AHU DB  Chennai – Bayline  \n",
      "1213            0.0             NaN  AHU DB  Chennai – Bayline  \n",
      "1214            0.0             NaN  AHU DB  Chennai – Bayline  \n",
      "1215            0.0             NaN  AHU DB  Chennai – Bayline  \n",
      "\n",
      "[1216 rows x 13 columns]\n"
     ]
    }
   ],
   "source": [
    "# Rename columns to 'ds' and 'y'\n",
    "df.rename(columns={'Timestamp': 'ds', 'Energy Consumption (kWh)': 'y'}, inplace=True)\n",
    "print(df)"
   ]
  },
  {
   "cell_type": "markdown",
   "metadata": {},
   "source": [
    "> ## **Prophet**\n",
    ">\n",
    "> > - *Prophet is an open-source forecasting tool developed by Facebook that is designed to make time series forecasting tasks*\n",
    ">>\n",
    " > > - *Prophet is built on a decomposable time series model that includes components for trend, seasonality, holidays, and additional regressors.* \n",
    " >>\n",
    " >> -  *It provides intuitive parameters for controlling the forecasting process and offers automatic detection of changepoints and holidays.*\n",
    " >>\n",
    " > > -  *Overall, Prophet simplifies the process of time series forecasting while providing robust and interpretable results.*"
   ]
  },
  {
   "cell_type": "markdown",
   "metadata": {},
   "source": [
    ">    >   ``from prophet import Prophet: ``\n",
    "> - This imports the Prophet class from the Prophet library, allowing us to use its functionalities.\n",
    ">\n",
    ">  >     model = Prophet():\n",
    "      > - This initializes a Prophet forecasting model with default parameters.\n",
    "      >\n",
    "> > Model Fitting:          ````model.fit(df):````\n",
    ">\n",
    " >- This  fits the Prophet model to the input DataFrame df.\n",
    " >\n",
    " >-  The fit() method takes the DataFrame containing the time series data (df) as its input and trains the Prophet model on this data.\n"
   ]
  },
  {
   "cell_type": "code",
   "execution_count": 223,
   "metadata": {},
   "outputs": [
    {
     "name": "stderr",
     "output_type": "stream",
     "text": [
      "12:18:27 - cmdstanpy - INFO - Chain [1] start processing\n",
      "12:18:27 - cmdstanpy - INFO - Chain [1] done processing\n"
     ]
    },
    {
     "data": {
      "text/plain": [
       "<prophet.forecaster.Prophet at 0x176bbd570>"
      ]
     },
     "execution_count": 223,
     "metadata": {},
     "output_type": "execute_result"
    }
   ],
   "source": [
    "from prophet import Prophet\n",
    "\n",
    "# Initialize and fit the Prophet model\n",
    "model = Prophet()\n",
    "model.fit(df)\n"
   ]
  },
  {
   "cell_type": "markdown",
   "metadata": {},
   "source": [
    "> ## Forecasting(Future)\n",
    ">\n",
    ">-  >```df['ds'].max() ```\n",
    ">\n",
    ">> - This part of the code fetches the maximum timestamp from the 'ds' column of the DataFrame df. \n",
    ">>\n",
    "> >- The 'ds' column typically represents the timestamps or dates in a time series dataset.\n",
    ">> - It takes the maximum timestamp from the 'ds' column of the DataFrame df and adds one hour to it.\n",
    ">>\n",
    ">\n",
    ">    - >     pd.Timedelta(hours=1)\n",
    ">\n",
    "         > > - represents a time duration of 1 hour. By adding this timedelta to p_index, we advance the index by 1 hour, positioning it to the next time interval.\n",
    ">>\n",
    ">> - This specifies a timedelta of 1 hour. It is employed to increment the current index by 1 hour, Making sure that the following missing values are separated by this amount of time.\n",
    ">>\n",
    ">>\n",
    ">______________\n",
    ">>\n",
    ">  **pd.date_range(start=future_start_date, periods=24 * 30 * 2, freq='H')**\n",
    ">\n",
    "> - ```pd.date_range```  function is used to generate a sequence of dates or timestamps.\n",
    ">\n",
    ">- ``start=future_start_date:`` It sets the start date for the sequence, which is future_start_date.\n",
    ">\n",
    ">- ```periods=24*30*2: ```This  specifies the no. of periods (timestamps) to generate.\n",
    ">\n",
    "> - Here, 24 * 30 *2 means 24 hours per day, 30 days per month, and 2 months, resulting in a total of 1440 hours (24 hours/day * 30 days/month * 2 months).\n",
    ">\n",
    ">- ``freq='H':`` It sets the frequency of the timestamps to hourly ('H'), meaning each timestamp in the sequence represents an hour.\n",
    ">________________\n",
    ">>```pd.DataFrame({'ds': future}):```\n",
    ">>- It creates a DataFrame with one column named 'ds', where 'ds' contains the sequence of future timestamps generated earlier.\n",
    ">>\n",
    ">> - The purpose of creating a DataFrame with the future timestamps is to prepare the input data required for forecasting future values using time series models like prophet"
   ]
  },
  {
   "cell_type": "code",
   "execution_count": 277,
   "metadata": {},
   "outputs": [],
   "source": [
    "# Create a DataFrame for future predictions starting after the last timestamp in the dataset\n",
    "future_start_date = df['ds'].max() + pd.Timedelta(hours=1)  # Start from the hour after the last timestamp\n",
    "future = pd.date_range(start=future_start_date, periods=24*30*2, freq='H')  # Forecasting for the next two months\n",
    "future = pd.DataFrame({'ds': future})\n"
   ]
  },
  {
   "cell_type": "code",
   "execution_count": 225,
   "metadata": {},
   "outputs": [
    {
     "name": "stdout",
     "output_type": "stream",
     "text": [
      "2024-02-20 16:00:00\n"
     ]
    }
   ],
   "source": [
    "print(future_start_date)"
   ]
  },
  {
   "cell_type": "code",
   "execution_count": 226,
   "metadata": {},
   "outputs": [
    {
     "name": "stdout",
     "output_type": "stream",
     "text": [
      "                      ds\n",
      "0    2024-02-20 16:00:00\n",
      "1    2024-02-20 17:00:00\n",
      "2    2024-02-20 18:00:00\n",
      "3    2024-02-20 19:00:00\n",
      "4    2024-02-20 20:00:00\n",
      "...                  ...\n",
      "1435 2024-04-20 11:00:00\n",
      "1436 2024-04-20 12:00:00\n",
      "1437 2024-04-20 13:00:00\n",
      "1438 2024-04-20 14:00:00\n",
      "1439 2024-04-20 15:00:00\n",
      "\n",
      "[1440 rows x 1 columns]\n"
     ]
    }
   ],
   "source": [
    "print(future)\n"
   ]
  },
  {
   "cell_type": "code",
   "execution_count": 227,
   "metadata": {},
   "outputs": [],
   "source": [
    "\n",
    "# Forecast future values\n",
    "forecast = model.predict(future)\n"
   ]
  },
  {
   "cell_type": "code",
   "execution_count": 228,
   "metadata": {},
   "outputs": [
    {
     "name": "stdout",
     "output_type": "stream",
     "text": [
      "                      ds      trend  yhat_lower  yhat_upper  trend_lower  \\\n",
      "0    2024-02-20 16:00:00  17.204385   22.105789   40.612997    17.204385   \n",
      "1    2024-02-20 17:00:00  17.206115   22.281977   41.199388    17.206115   \n",
      "2    2024-02-20 18:00:00  17.207845   21.455454   40.047407    17.207845   \n",
      "3    2024-02-20 19:00:00  17.209576   19.290746   37.392948    17.209576   \n",
      "4    2024-02-20 20:00:00  17.211306   16.359384   34.348100    17.211306   \n",
      "...                  ...        ...         ...         ...          ...   \n",
      "1435 2024-04-20 11:00:00  19.687529    7.962327   25.967403    18.379357   \n",
      "1436 2024-04-20 12:00:00  19.689259    9.793258   27.966716    18.380119   \n",
      "1437 2024-04-20 13:00:00  19.690989   11.249745   30.030832    18.380555   \n",
      "1438 2024-04-20 14:00:00  19.692720   12.077725   30.549383    18.380477   \n",
      "1439 2024-04-20 15:00:00  19.694450   13.793297   31.761403    18.380398   \n",
      "\n",
      "      trend_upper  additive_terms  additive_terms_lower  additive_terms_upper  \\\n",
      "0       17.204385       13.859155             13.859155             13.859155   \n",
      "1       17.206115       14.345954             14.345954             14.345954   \n",
      "2       17.207845       13.428050             13.428050             13.428050   \n",
      "3       17.209576       11.085556             11.085556             11.085556   \n",
      "4       17.211306        8.247723              8.247723              8.247723   \n",
      "...           ...             ...                   ...                   ...   \n",
      "1435    20.936784       -2.618829             -2.618829             -2.618829   \n",
      "1436    20.940082       -0.579513             -0.579513             -0.579513   \n",
      "1437    20.943380        0.922392              0.922392              0.922392   \n",
      "1438    20.946616        2.011330              2.011330              2.011330   \n",
      "1439    20.949832        2.996588              2.996588              2.996588   \n",
      "\n",
      "         daily  daily_lower  daily_upper    weekly  weekly_lower  \\\n",
      "0     7.775834     7.775834     7.775834  6.083321      6.083321   \n",
      "1     8.395984     8.395984     8.395984  5.949970      5.949970   \n",
      "2     7.624565     7.624565     7.624565  5.803484      5.803484   \n",
      "3     5.439506     5.439506     5.439506  5.646050      5.646050   \n",
      "4     2.767907     2.767907     2.767907  5.479816      5.479816   \n",
      "...        ...          ...          ...       ...           ...   \n",
      "1435 -1.045538    -1.045538    -1.045538 -1.573291     -1.573291   \n",
      "1436  1.438691     1.438691     1.438691 -2.018203     -2.018203   \n",
      "1437  3.401584     3.401584     3.401584 -2.479192     -2.479192   \n",
      "1438  4.965550     4.965550     4.965550 -2.954220     -2.954220   \n",
      "1439  6.437627     6.437627     6.437627 -3.441039     -3.441039   \n",
      "\n",
      "      weekly_upper  multiplicative_terms  multiplicative_terms_lower  \\\n",
      "0         6.083321                   0.0                         0.0   \n",
      "1         5.949970                   0.0                         0.0   \n",
      "2         5.803484                   0.0                         0.0   \n",
      "3         5.646050                   0.0                         0.0   \n",
      "4         5.479816                   0.0                         0.0   \n",
      "...            ...                   ...                         ...   \n",
      "1435     -1.573291                   0.0                         0.0   \n",
      "1436     -2.018203                   0.0                         0.0   \n",
      "1437     -2.479192                   0.0                         0.0   \n",
      "1438     -2.954220                   0.0                         0.0   \n",
      "1439     -3.441039                   0.0                         0.0   \n",
      "\n",
      "      multiplicative_terms_upper       yhat  \n",
      "0                            0.0  31.063540  \n",
      "1                            0.0  31.552069  \n",
      "2                            0.0  30.635895  \n",
      "3                            0.0  28.295132  \n",
      "4                            0.0  25.459029  \n",
      "...                          ...        ...  \n",
      "1435                         0.0  17.068699  \n",
      "1436                         0.0  19.109746  \n",
      "1437                         0.0  20.613381  \n",
      "1438                         0.0  21.704050  \n",
      "1439                         0.0  22.691038  \n",
      "\n",
      "[1440 rows x 19 columns]\n"
     ]
    }
   ],
   "source": [
    "print(forecast)"
   ]
  },
  {
   "cell_type": "markdown",
   "metadata": {},
   "source": [
    "> ## Forecasting(Historical)\n",
    "> This is to create  a DataFrame for future predictions using the ```pd.date_range``` function.\n",
    ">\n",
    ">-  >```df['ds'].min() ```\n",
    ">\n",
    ">> - This part of the code fetches the minimum timestamp from the 'ds' column of the DataFrame df. \n",
    ">>\n",
    "> >- The 'ds' column typically represents the timestamps or dates in a time series dataset.\n",
    ">> - It takes the minimum timestamp from the 'ds' column of the DataFrame df .\n",
    ">>\n",
    ">\n",
    ">    - >     pd.Timedelta(hours=1)\n",
    ">\n",
    "         > > - represents a time duration of 1 hour. By adding this timedelta to p_index, we advance the index by 1 hour, positioning it to the next time interval.\n",
    ">>\n",
    ">> - This specifies a timedelta of 1 hour. It is employed to increment the current index by 1 hour, Making sure that the following missing values are separated by this amount of time.\n",
    "___________\n",
    ">>\n",
    ">  **pd.date_range(end=past_end_date, periods=24 * 30 * 2, freq='H')**\n",
    ">\n",
    "> - ```pd.date_range```  function is used to generate a sequence of dates or timestamps.\n",
    ">\n",
    ">- ``end=past_end_date:`` It sets the end date for the sequence, which is past_end_date.\n",
    ">\n",
    ">- ```periods=24*30*2: ```This  specifies the no. of periods (timestamps) to generate.\n",
    ">\n",
    "> - Here, 24 * 30 *2 means 24 hours per day, 30 days per month, and 2 months, resulting in a total of 1440 hours (24 hours/day * 30 days/month * 2 months).\n",
    ">\n",
    ">- ``freq='H':`` It sets the frequency of the timestamps to hourly ('H'), meaning each timestamp in the sequence represents an hour.\n",
    ">________________\n",
    ">>```pd.DataFrame({'ds': past}):```\n",
    ">>- It creates a DataFrame with one column named 'ds', where 'ds' contains the sequence of Past timestamps generated earlier.\n",
    ">>\n",
    ">> - The purpose of creating a DataFrame with the Past timestamps is to prepare the input data required for forecasting Past values using time series models like prophet"
   ]
  },
  {
   "cell_type": "code",
   "execution_count": 229,
   "metadata": {},
   "outputs": [],
   "source": [
    "# Create a DataFrame for past predictions starting before the first timestamp in the dataset\n",
    "past_end_date = df['ds'].min() - pd.Timedelta(hours=1)  # End at the hour before the first timestamp\n",
    "past = pd.date_range(end=past_end_date, periods=24*30*2, freq='H')  # Forecasting for the past two months\n",
    "past = pd.DataFrame({'ds': past})\n",
    "\n",
    "# Forecast past values\n",
    "past_forecast = model.predict(past)\n"
   ]
  },
  {
   "cell_type": "code",
   "execution_count": 230,
   "metadata": {},
   "outputs": [
    {
     "name": "stdout",
     "output_type": "stream",
     "text": [
      "2023-12-31 23:00:00\n"
     ]
    }
   ],
   "source": [
    "print(past_end_date)"
   ]
  },
  {
   "cell_type": "code",
   "execution_count": 231,
   "metadata": {},
   "outputs": [
    {
     "name": "stdout",
     "output_type": "stream",
     "text": [
      "                      ds\n",
      "0    2023-11-02 00:00:00\n",
      "1    2023-11-02 01:00:00\n",
      "2    2023-11-02 02:00:00\n",
      "3    2023-11-02 03:00:00\n",
      "4    2023-11-02 04:00:00\n",
      "...                  ...\n",
      "1435 2023-12-31 19:00:00\n",
      "1436 2023-12-31 20:00:00\n",
      "1437 2023-12-31 21:00:00\n",
      "1438 2023-12-31 22:00:00\n",
      "1439 2023-12-31 23:00:00\n",
      "\n",
      "[1440 rows x 1 columns]\n"
     ]
    }
   ],
   "source": [
    "print(past)"
   ]
  },
  {
   "cell_type": "code",
   "execution_count": 232,
   "metadata": {},
   "outputs": [
    {
     "name": "stdout",
     "output_type": "stream",
     "text": [
      "                      ds      trend  yhat_lower  yhat_upper  trend_lower  \\\n",
      "0    2023-11-02 00:00:00   6.252580    1.732747   20.723009     6.252580   \n",
      "1    2023-11-02 01:00:00   6.257201    0.888976   18.927006     6.257201   \n",
      "2    2023-11-02 02:00:00   6.261822   -1.505429   16.566431     6.261822   \n",
      "3    2023-11-02 03:00:00   6.266444   -4.322462   13.975143     6.266444   \n",
      "4    2023-11-02 04:00:00   6.271065   -7.681653   11.560408     6.271065   \n",
      "...                  ...        ...         ...         ...          ...   \n",
      "1435 2023-12-31 19:00:00  12.883746   -1.354717   17.205603    12.883746   \n",
      "1436 2023-12-31 20:00:00  12.888367   -3.741149   14.299857    12.888367   \n",
      "1437 2023-12-31 21:00:00  12.892988   -4.640514   12.385831    12.892988   \n",
      "1438 2023-12-31 22:00:00  12.897609   -4.916181   14.096320    12.897609   \n",
      "1439 2023-12-31 23:00:00  12.902230   -3.497893   15.056292    12.902230   \n",
      "\n",
      "      trend_upper  additive_terms  additive_terms_lower  additive_terms_upper  \\\n",
      "0        6.252580        4.590519              4.590519              4.590519   \n",
      "1        6.257201        3.792083              3.792083              3.792083   \n",
      "2        6.261822        1.400898              1.400898              1.400898   \n",
      "3        6.266444       -1.706809             -1.706809             -1.706809   \n",
      "4        6.271065       -4.358140             -4.358140             -4.358140   \n",
      "...           ...             ...                   ...                   ...   \n",
      "1435    12.883746       -4.956549             -4.956549             -4.956549   \n",
      "1436    12.888367       -7.324248             -7.324248             -7.324248   \n",
      "1437    12.892988       -8.800804             -8.800804             -8.800804   \n",
      "1438    12.897609       -8.649683             -8.649683             -8.649683   \n",
      "1439    12.902230       -7.346435             -7.346435             -7.346435   \n",
      "\n",
      "         daily  daily_lower  daily_upper     weekly  weekly_lower  \\\n",
      "0     2.231063     2.231063     2.231063   2.359456      2.359456   \n",
      "1     1.447494     1.447494     1.447494   2.344589      2.344589   \n",
      "2    -0.931945    -0.931945    -0.931945   2.332843      2.332843   \n",
      "3    -4.030572    -4.030572    -4.030572   2.323763      2.323763   \n",
      "4    -6.675083    -6.675083    -6.675083   2.316943      2.316943   \n",
      "...        ...          ...          ...        ...           ...   \n",
      "1435  5.439506     5.439506     5.439506 -10.396055    -10.396055   \n",
      "1436  2.767907     2.767907     2.767907 -10.092155    -10.092155   \n",
      "1437  0.945045     0.945045     0.945045  -9.745849     -9.745849   \n",
      "1438  0.709347     0.709347     0.709347  -9.359030     -9.359030   \n",
      "1439  1.587444     1.587444     1.587444  -8.933879     -8.933879   \n",
      "\n",
      "      weekly_upper  multiplicative_terms  multiplicative_terms_lower  \\\n",
      "0         2.359456                   0.0                         0.0   \n",
      "1         2.344589                   0.0                         0.0   \n",
      "2         2.332843                   0.0                         0.0   \n",
      "3         2.323763                   0.0                         0.0   \n",
      "4         2.316943                   0.0                         0.0   \n",
      "...            ...                   ...                         ...   \n",
      "1435    -10.396055                   0.0                         0.0   \n",
      "1436    -10.092155                   0.0                         0.0   \n",
      "1437     -9.745849                   0.0                         0.0   \n",
      "1438     -9.359030                   0.0                         0.0   \n",
      "1439     -8.933879                   0.0                         0.0   \n",
      "\n",
      "      multiplicative_terms_upper       yhat  \n",
      "0                            0.0  10.843099  \n",
      "1                            0.0  10.049284  \n",
      "2                            0.0   7.662721  \n",
      "3                            0.0   4.559634  \n",
      "4                            0.0   1.912924  \n",
      "...                          ...        ...  \n",
      "1435                         0.0   7.927198  \n",
      "1436                         0.0   5.564119  \n",
      "1437                         0.0   4.092185  \n",
      "1438                         0.0   4.247926  \n",
      "1439                         0.0   5.555795  \n",
      "\n",
      "[1440 rows x 19 columns]\n"
     ]
    }
   ],
   "source": [
    "print(past_forecast)"
   ]
  },
  {
   "cell_type": "markdown",
   "metadata": {},
   "source": [
    ">\n",
    ">## distribution Plot\n",
    "> - This plot visualizes the distribution of original and forecasted data over time.\n",
    ">\n",
    ">>-  The original data, depicted in ``orange``, represents the actual energy consumption values.\n",
    ">>\n",
    ">> -  The ``green`` line illustrates the forecasted data for future time points, while the ``teal`` line showcases the forecasted historical data for past time points.\n"
   ]
  },
  {
   "cell_type": "code",
   "execution_count": 280,
   "metadata": {},
   "outputs": [
    {
     "data": {
      "image/png": "[encoded data removed]",
      "text/plain": [
       "<Figure size 1000x600 with 1 Axes>"
      ]
     },
     "metadata": {},
     "output_type": "display_data"
    }
   ],
   "source": [
    "import matplotlib.pyplot as plt\n",
    "\n",
    "# Plot the distribution\n",
    "plt.figure(figsize=(10, 6))\n",
    "plt.plot(df['ds'], df['y'], label='Original Data', color='orange', linestyle='-')\n",
    "plt.plot(forecast['ds'], forecast['yhat'], label='Forecasted future Data', color='green')\n",
    "plt.plot(past_forecast['ds'], past_forecast['yhat'], label='Forecasted historical Data', color='teal')\n",
    "plt.xlabel('Timestamp')\n",
    "plt.ylabel('Value')\n",
    "plt.title('Distribution of Original and Forecasted Data')\n",
    "plt.legend(loc='upper left')\n",
    "plt.grid(True)\n",
    "plt.show()\n"
   ]
  },
  {
   "cell_type": "markdown",
   "metadata": {},
   "source": [
    "# Merging the data\n",
    " >- The aim is to merge the past forecast and future forecast with the original DataFrame.\n",
    "  >\n",
    " >- It ensures consistency by renaming the 'yhat' column to 'y' in both the past and future forecasts.\n",
    " >\n",
    " >- The purpose of merging is to combine the actual energy consumption data from the original DataFrame with the forecasted values from both the past and future predictions.\n",
    " >\n",
    " >-  This consolidated DataFrame, final_df, contains the timestamps ('ds') and corresponding energy consumption values ('y') for both historical and forecasted data points, sorted by timestamp.\n",
    "\n"
   ]
  },
  {
   "cell_type": "code",
   "execution_count": 213,
   "metadata": {},
   "outputs": [],
   "source": [
    "# Merge past forecast with original DataFrame, rename 'yhat' to 'y' for consistency\n",
    "past_forecast.rename(columns={'yhat': 'y'}, inplace=True)\n",
    "forecast.rename(columns={'yhat': 'y'}, inplace=True)\n",
    "\n",
    "final_df = pd.concat([df[['ds', 'y']], past_forecast[['ds', 'y']], forecast[['ds', 'y']]])\n",
    "\n",
    "# Sort the merged DataFrame by 'ds'\n",
    "final_df = final_df.sort_values(by='ds').reset_index(drop=True)\n"
   ]
  },
  {
   "cell_type": "markdown",
   "metadata": {},
   "source": [
    "# exporting \n",
    ">         to_excel()\n",
    " >>is. afunction used for exporting data to an excel fiel"
   ]
  },
  {
   "cell_type": "code",
   "execution_count": 138,
   "metadata": {},
   "outputs": [],
   "source": [
    "# Export to Excel\n",
    "final_df.to_excel(\"final_forecast.xlsx\", index=False)\n"
   ]
  }
 ],
 "metadata": {
  "kernelspec": {
   "display_name": "Python 3",
   "language": "python",
   "name": "python3"
  },
  "language_info": {
   "codemirror_mode": {
    "name": "ipython",
    "version": 3
   },
   "file_extension": ".py",
   "mimetype": "text/x-python",
   "name": "python",
   "nbconvert_exporter": "python",
   "pygments_lexer": "ipython3",
   "version": "3.10.12"
  }
 },
 "nbformat": 4,
 "nbformat_minor": 2
}
